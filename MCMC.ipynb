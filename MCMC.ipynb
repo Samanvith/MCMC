{
 "cells": [
  {
   "cell_type": "markdown",
   "metadata": {},
   "source": [
    "# MCMC (Metropolis-Hesting) on Supernova-la dataset"
   ]
  },
  {
   "cell_type": "markdown",
   "metadata": {},
   "source": [
    "# Baye's theorem : $P(\\theta|D) = \\frac{P(\\theta).P(D|\\theta)}{\\Sigma  P(D)}$\n",
    "#### where $\\theta's$ are the parameter , $D$ is the data\n",
    "\n",
    "#### * $P(\\theta|D)$ is called 'Posterior Probability'.\n",
    "#### * $P(\\theta)$ is called 'Prior'.\n",
    "#### * $P(D|\\theta)$ is the 'Likelyhood'.\n",
    "#### * $\\Sigma  P(D)$ is our 'Normalization constant'.\n",
    "\n",
    "\n",
    "\n",
    "* \"Flat prior\" is choosen, which means that the distribution of posterior does not depends on the prior's distribution.\n",
    "* Also, We have a stationary model. So We don't need to bother about the \"Normalizing term\" as well.\n",
    "* In this case, the baye's formula can replaced into :\n",
    "# $P(\\theta|D) \\propto P(D|\\theta)$\n",
    "\n",
    "\n",
    "\n"
   ]
  },
  {
   "cell_type": "markdown",
   "metadata": {},
   "source": [
    "# MH algorithm:\n",
    "\n",
    "* Loop - (1,N=10000)\n",
    "\n",
    "#### Method In Marcov's chain:\n",
    "\n",
    "* Next values of parameters are chosen from a normal distribution centered around the previous values of parameter with some standard deviation $\\sigma$(here 0.01).\n",
    "\n",
    "* Calculate the log likelyhood for the new randomly generated parameter values.\n",
    "\n",
    "\n",
    "* If next value of likelyhood is grater than previous 'or' ratio of likelyhoods is greater than random uniform (0,1). Then accept the parameter values, else repeat the previous step.\n",
    "\n",
    "\n",
    "\n"
   ]
  },
  {
   "cell_type": "code",
   "execution_count": 1,
   "metadata": {},
   "outputs": [],
   "source": [
    "import numpy as np\n",
    "import math as m\n",
    "import matplotlib.pyplot as plt\n",
    "import pylab as pl \n",
    "from func import*\n",
    "from cycler import cycle\n",
    "\n",
    "import matplotlib.ticker as mticker\n",
    "\n",
    "import math\n",
    "c = 3.0 * (10.0**5.0)\n",
    "Ho = 100.0"
   ]
  },
  {
   "cell_type": "code",
   "execution_count": 2,
   "metadata": {},
   "outputs": [
    {
     "data": {
      "text/plain": [
       "<Figure size 1152x648 with 0 Axes>"
      ]
     },
     "metadata": {},
     "output_type": "display_data"
    }
   ],
   "source": [
    "n_sample = 10000\n",
    "\n",
    "s_d = [0.01,0.01]\n",
    "\n",
    "n_super = 31\n",
    "\n",
    "param_val = np.empty([n_sample,3])\n",
    "\n",
    "D_mu = np.empty(n_super)\n",
    "\n",
    "param_val[0,:] = [np.random.uniform(), np.random.uniform(), 10**(-100)]\n",
    "\n",
    "cov_mat = np.loadtxt('jla_mub_covmatrix.txt')\n",
    "\n",
    "cov_mat = np.reshape(cov_mat,(n_super,n_super))\n",
    "\n",
    "cov_Inv = np.linalg.inv(cov_mat)\n",
    "\n",
    "Analytical_mU = np.empty(n_super)\n",
    "\n",
    "Data = np.loadtxt('jla_mub_0.txt')\n",
    "\n",
    "Z = Data[:,0]\n",
    "m_u = Data[:,1]\n",
    "\n",
    "\n",
    "\n",
    "def mu_analytical(om_ga,h,z):\n",
    "\n",
    "    def A(z):\n",
    "        return (1.0)/(1+z)\n",
    "    \n",
    "\n",
    "\n",
    "    def S(om_ga):\n",
    "        return (np.power((1.0-om_ga)/om_ga,1.0/3.0))\n",
    "   \n",
    "\n",
    "\n",
    "    def eta(a,s):\n",
    "        f_t = 2.0*np.power((np.power(s,3.0)+1.0),1.0/2.0)\n",
    "        s_d = 1.0/np.power(a,4.0)\n",
    "        t_d = 0.1540*(s/(np.power(a,3.0)))\t\t\n",
    "        f_h = 0.4304*((np.power(s,2.0))/(np.power(a,2.0)))\n",
    "        f_v = 0.19097*((np.power(s,3.0))/(a))\n",
    "        s_h = 0.066941 * np.power(s,4.0)\n",
    "\n",
    "        part = np.power((s_d - t_d + f_h + f_v + s_h),(-1.0/8.0)) \n",
    "\n",
    "        e_ta = f_t*part\n",
    "        return e_ta\n",
    "\n",
    "\n",
    "    def delf(a,om_ga,z):\n",
    "        return (c/Ho) * (1.0+z) * (eta(1.0,S(om_ga)) - eta(A(z),S(om_ga)))\n",
    "\n",
    "\n",
    "    \n",
    "    def Mu(h,del_f):\n",
    "        mu = 25.0-5.0*np.log10(h)+5.0*np.log10(del_f)\n",
    "        return mu\n",
    "\n",
    "\n",
    "    a = A(z)\n",
    "    s = S(om_ga)\n",
    "    Et_a = eta(a,s)\n",
    "    del_f = delf(a,om_ga,z)\n",
    "    M_u = Mu(h,del_f)\n",
    "\n",
    "    return Mu(h,del_f)\n",
    "\n",
    "\n",
    "\n",
    "pl.figure(figsize=(16.0,9.0))\n",
    "\n",
    "\n",
    "def loglikehood(om_ga,h):\n",
    "    if(om_ga<=0 or h<= 0):\n",
    "        Log_Like = 10**(-100)\n",
    "    else :\n",
    "        for k in range (n_super):\n",
    "            #print(Z)\n",
    "            Analytical_mU[k] = mu_analytical(om_ga,h,Z[k])\n",
    "            #print(len(Analytical_mU))\n",
    "            D_mu[k] = m_u[k] - Analytical_mU[k]\n",
    "            #print(D_mu)\n",
    "\n",
    "        Log_Like = -0.5*np.dot(D_mu,np.dot(cov_Inv,D_mu))\n",
    "\n",
    "    return Log_Like\n",
    "\n",
    "param_val[0,2] = loglikehood(param_val[0,0],param_val[0,1])\n",
    "\n",
    "for i in range (1,n_sample):\n",
    "    L_Like1 = param_val[i-1,2]\n",
    "    om_ga_1 = np.random.normal(param_val[i-1,0],s_d[0])\n",
    "    h_1 = np.random.normal(param_val[i-1,1],s_d[1])\n",
    "\n",
    "    \n",
    "    L_like2 = loglikehood(om_ga_1,h_1)\n",
    "\n",
    "\n",
    "    if(L_like2 > L_Like1):\n",
    "        param_val[i,0] = om_ga_1\n",
    "        param_val[i,1] = h_1\n",
    "        param_val[i,2] = L_like2\n",
    "    else:\n",
    "        A = np.random.uniform()\n",
    "        if(L_like2-L_Like1>np.log(A)):\n",
    "            param_val[i,0] = om_ga_1\n",
    "            param_val[i,1] = h_1\n",
    "            param_val[i,2] = L_like2\n",
    "        else:\n",
    "            param_val[i,0] = param_val[i-1,0]\n",
    "            param_val[i,1] = param_val[i-1,1]\n",
    "            param_val[i,2] = L_Like1\n"
   ]
  },
  {
   "cell_type": "markdown",
   "metadata": {},
   "source": [
    "## Burn-in :\n",
    "\n",
    "* Chopping off initial  ~ 10% values of the parameters from the chain."
   ]
  },
  {
   "cell_type": "code",
   "execution_count": 3,
   "metadata": {},
   "outputs": [],
   "source": [
    "N2 = int(m.floor(n_sample/10)) "
   ]
  },
  {
   "cell_type": "markdown",
   "metadata": {},
   "source": [
    "## Plotting"
   ]
  },
  {
   "cell_type": "code",
   "execution_count": 6,
   "metadata": {},
   "outputs": [
    {
     "name": "stderr",
     "output_type": "stream",
     "text": [
      "No handles with labels found to put in legend.\n"
     ]
    },
    {
     "data": {
      "image/png": "[encoded data removed]",
      "text/plain": [
       "<Figure size 432x288 with 1 Axes>"
      ]
     },
     "metadata": {
      "needs_background": "light"
     },
     "output_type": "display_data"
    },
    {
     "name": "stderr",
     "output_type": "stream",
     "text": [
      "No handles with labels found to put in legend.\n"
     ]
    },
    {
     "data": {
      "image/png": "[encoded data removed]",
      "text/plain": [
       "<Figure size 1152x648 with 1 Axes>"
      ]
     },
     "metadata": {
      "needs_background": "light"
     },
     "output_type": "display_data"
    }
   ],
   "source": [
    "pl.scatter(param_val[N2:,0],param_val[N2:,1],c= -param_val[N2:,2])     \n",
    "pl.xlim(0.15,0.45)\n",
    "pl.ylim(0.65,0.75)\n",
    "pl.xlabel(\"$\\Omega_m$-->\")\n",
    "pl.ylabel(\"h\")\n",
    "#pl.grid()\n",
    "pl.legend(loc=4)\n",
    "pl.savefig('Astrostats_4.png')\n",
    "\n",
    "pl.show() \n",
    "\n",
    "pl.figure(figsize=(16.0,9.0))\n",
    "pl.hist(param_val[N2:,0],bins=30)                              \n",
    "pl.xlabel(\"$\\Omega_m$-->\")\n",
    "pl.legend(loc=4)\n",
    "pl.savefig('Astrostats_5.png')\n",
    "\n",
    "pl.show()\n"
   ]
  }
 ],
 "metadata": {
  "kernelspec": {
   "display_name": "Python 3",
   "language": "python",
   "name": "python3"
  },
  "language_info": {
   "codemirror_mode": {
    "name": "ipython",
    "version": 3
   },
   "file_extension": ".py",
   "mimetype": "text/x-python",
   "name": "python",
   "nbconvert_exporter": "python",
   "pygments_lexer": "ipython3",
   "version": "3.7.3"
  }
 },
 "nbformat": 4,
 "nbformat_minor": 4
}
